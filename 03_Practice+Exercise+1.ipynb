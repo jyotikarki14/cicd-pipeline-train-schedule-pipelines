{
  "cells": [
    {
      "cell_type": "markdown",
      "metadata": {
        "id": "view-in-github",
        "colab_type": "text"
      },
      "source": [
        "<a href=\"https://colab.research.google.com/github/jyotikarki14/cicd-pipeline-train-schedule-pipelines/blob/master/03_Practice%2BExercise%2B1.ipynb\" target=\"_parent\"><img src=\"https://colab.research.google.com/assets/colab-badge.svg\" alt=\"Open In Colab\"/></a>"
      ]
    },
    {
      "cell_type": "markdown",
      "metadata": {
        "id": "9Uv76a8SDqv7"
      },
      "source": [
        "## Practice Exercise 1"
      ]
    },
    {
      "cell_type": "markdown",
      "metadata": {
        "id": "b5bbnzQ2Dqv9"
      },
      "source": [
        "You are provided with 2 lists that contain the data of an ecommerce website. The first list contains the data for the number of items sold for a particular product and the second list contains the price of the product sold. As a part of this exercise, solve the questions that are provided below."
      ]
    },
    {
      "cell_type": "code",
      "execution_count": null,
      "metadata": {
        "id": "lA0f4EquDqv9"
      },
      "outputs": [],
      "source": [
        "number = [8, 9, 9, 1, 6, 9, 5, 7, 3, 9, 7, 3, 4, 8, 3, 5, 8, 4, 8, 7, 5, 7, 3, 6, 1, 2, 7, 4, 7, 7, 8, 4, 3, 4, 2, 2, 2, 7, 3, 5, 6, 1, 1, 3, 2, 1, 1, 7, 7, 1, 4, 4, 5, 6, 1, 2, 7, 4, 5, 8, 1, 4, 8, 6, 2, 4, 3, 7, 3, 6, 2, 3, 3, 3, 2, 4, 6, 8, 9, 3, 9, 3, 1, 8, 6, 6, 3, 3, 9, 4, 6, 4, 9, 6, 7, 1, 2, 8, 7, 8, 1, 4]\n",
        "price = [195, 225, 150, 150, 90, 60, 75, 255, 270, 225, 135, 195, 30, 15, 210, 105, 15, 30, 180, 60, 165, 60, 45, 225, 180, 90, 30, 210, 150, 15, 270, 60, 210, 180, 60, 225, 150, 150, 120, 195, 75, 240, 60, 45, 30, 180, 240, 285, 135, 165, 180, 240, 60, 105, 165, 240, 120, 45, 120, 165, 285, 225, 90, 105, 225, 45, 45, 45, 75, 180, 90, 240, 30, 30, 60, 135, 180, 15, 255, 180, 270, 135, 105, 135, 210, 180, 135, 195, 225, 75, 225, 15, 240, 60, 15, 180, 255, 90, 15, 150, 230, 150]"
      ]
    },
    {
      "cell_type": "markdown",
      "metadata": {
        "id": "Ty2fjo-JDqv_"
      },
      "source": [
        "#### How many different products are sold by the company in total?\n",
        "\n",
        "-  99\n",
        "-  100\n",
        "-  101\n",
        "-  102\n"
      ]
    },
    {
      "cell_type": "code",
      "execution_count": 7,
      "metadata": {
        "colab": {
          "base_uri": "https://localhost:8080/"
        },
        "id": "5F-jrd2MDqv_",
        "outputId": "69e9692b-bffc-4d4e-d3ad-70644a228919"
      },
      "outputs": [
        {
          "output_type": "execute_result",
          "data": {
            "text/plain": [
              "102"
            ]
          },
          "metadata": {},
          "execution_count": 7
        }
      ],
      "source": [
        "import numpy as np # imports the numpy module and assigns it to the alias np\n",
        "\n",
        "number = [8, 9, 9, 1, 6, 9, 5, 7, 3, 9, 7, 3, 4, 8, 3, 5, 8, 4, 8, 7, 5, 7, 3, 6, 1, 2, 7, 4, 7, 7, 8, 4, 3, 4, 2, 2, 2, 7, 3, 5, 6, 1, 1, 3, 2, 1, 1, 7, 7, 1, 4, 4, 5, 6, 1, 2, 7, 4, 5, 8, 1, 4, 8, 6, 2, 4, 3, 7, 3, 6, 2, 3, 3, 3, 2, 4, 6, 8, 9, 3, 9, 3, 1, 8, 6, 6, 3, 3, 9, 4, 6, 4, 9, 6, 7, 1, 2, 8, 7, 8, 1, 4]\n",
        "price = [195, 225, 150, 150, 90, 60, 75, 255, 270, 225, 135, 195, 30, 15, 210, 105, 15, 30, 180, 60, 165, 60, 45, 225, 180, 90, 30, 210, 150, 15, 270, 60, 210, 180, 60, 225, 150, 150, 120, 195, 75, 240, 60, 45, 30, 180, 240, 285, 135, 165, 180, 240, 60, 105, 165, 240, 120, 45, 120, 165, 285, 225, 90, 105, 225, 45, 45, 45, 75, 180, 90, 240, 30, 30, 60, 135, 180, 15, 255, 180, 270, 135, 105, 135, 210, 180, 135, 195, 225, 75, 225, 15, 240, 60, 15, 180, 255, 90, 15, 150, 230, 150]\n",
        "\n",
        "number_a = np.array(number)\n",
        "number_a.size"
      ]
    },
    {
      "cell_type": "markdown",
      "metadata": {
        "id": "xDxt_FRzDqv_"
      },
      "source": [
        "#### How many items were sold in total?\n",
        "\n",
        "-  460\n",
        "-  490\n",
        "-  500\n",
        "-  520\n"
      ]
    },
    {
      "cell_type": "code",
      "execution_count": 9,
      "metadata": {
        "colab": {
          "base_uri": "https://localhost:8080/"
        },
        "id": "0ZuPmstxDqv_",
        "outputId": "2558a7da-01fc-4f82-db39-2f37e00b1eed"
      },
      "outputs": [
        {
          "output_type": "execute_result",
          "data": {
            "text/plain": [
              "490"
            ]
          },
          "metadata": {},
          "execution_count": 9
        }
      ],
      "source": [
        "number_a.sum()"
      ]
    },
    {
      "cell_type": "markdown",
      "metadata": {
        "id": "YuOL0_j9Dqv_"
      },
      "source": [
        "#### What is the average price of the products sold by the ecommerce company?\n",
        "\n",
        "-  139\n",
        "-  151\n",
        "-  142\n",
        "-  128"
      ]
    },
    {
      "cell_type": "code",
      "execution_count": 10,
      "metadata": {
        "colab": {
          "base_uri": "https://localhost:8080/"
        },
        "id": "B_T2EdacDqwA",
        "outputId": "bd91af5e-c99b-4a84-b92a-907229bd6aea"
      },
      "outputs": [
        {
          "output_type": "execute_result",
          "data": {
            "text/plain": [
              "139.01960784313727"
            ]
          },
          "metadata": {},
          "execution_count": 10
        }
      ],
      "source": [
        "price_a = np.array(price)\n",
        "price_a.mean()"
      ]
    },
    {
      "cell_type": "markdown",
      "metadata": {
        "id": "aMd5u_zVDqwA"
      },
      "source": [
        "#### What is the price of the costliest item sold?\n",
        "\n",
        "-  225\n",
        "-  310\n",
        "-  280\n",
        "-  285"
      ]
    },
    {
      "cell_type": "code",
      "execution_count": 11,
      "metadata": {
        "colab": {
          "base_uri": "https://localhost:8080/"
        },
        "id": "KK7dF95JDqwA",
        "outputId": "033bf33f-aef7-499e-a953-31a0032ce84f"
      },
      "outputs": [
        {
          "output_type": "execute_result",
          "data": {
            "text/plain": [
              "285"
            ]
          },
          "metadata": {},
          "execution_count": 11
        }
      ],
      "source": [
        "price_a.max()"
      ]
    },
    {
      "cell_type": "markdown",
      "metadata": {
        "id": "ARiUAOJ_DqwA"
      },
      "source": [
        "#### What is the total revenue of the company? [Revenue = Price\\*Quantity]\n",
        "\n",
        "-  67100\n",
        "-  53900\n",
        "-  45300\n",
        "-  71200"
      ]
    },
    {
      "cell_type": "code",
      "execution_count": 12,
      "metadata": {
        "colab": {
          "base_uri": "https://localhost:8080/"
        },
        "id": "W9ahmyxwDqwA",
        "outputId": "c7283692-276b-4a4b-baef-135b5cdec316"
      },
      "outputs": [
        {
          "output_type": "execute_result",
          "data": {
            "text/plain": [
              "67100"
            ]
          },
          "metadata": {},
          "execution_count": 12
        }
      ],
      "source": [
        "revenue = price_a * number_a\n",
        "revenue.sum()"
      ]
    },
    {
      "cell_type": "markdown",
      "metadata": {
        "collapsed": true,
        "id": "UqcoTrtnDqwA"
      },
      "source": [
        "#### Demand for the 20th product in the list is more than the 50th product. [True/False]\n",
        "-  True\n",
        "-  False\n",
        "-  Can't be calculated"
      ]
    },
    {
      "cell_type": "code",
      "execution_count": 13,
      "metadata": {
        "colab": {
          "base_uri": "https://localhost:8080/"
        },
        "id": "Nb8fI6tMDqwA",
        "outputId": "50060d69-c47b-4d46-d344-2ba661b9b768"
      },
      "outputs": [
        {
          "output_type": "execute_result",
          "data": {
            "text/plain": [
              "True"
            ]
          },
          "metadata": {},
          "execution_count": 13
        }
      ],
      "source": [
        "number_a[19] > number_a[49]\n"
      ]
    },
    {
      "cell_type": "markdown",
      "metadata": {
        "id": "QXNrutWDDqwA"
      },
      "source": [
        "#### How many products fall under the category of expensive goods?\n",
        "An expensive good is that good whose price is more than the average price of the products sold by the company.\n",
        "\n",
        "-  48\n",
        "-  50\n",
        "-  52\n",
        "-  54"
      ]
    },
    {
      "cell_type": "code",
      "execution_count": 14,
      "metadata": {
        "colab": {
          "base_uri": "https://localhost:8080/"
        },
        "id": "YJHcvaRgDqwB",
        "outputId": "e504084a-d132-401e-877f-c41ef6f321d1"
      },
      "outputs": [
        {
          "output_type": "execute_result",
          "data": {
            "text/plain": [
              "52"
            ]
          },
          "metadata": {},
          "execution_count": 14
        }
      ],
      "source": [
        "expensive = price_a[price_a > price_a.mean()]\n",
        "expensive.size"
      ]
    },
    {
      "cell_type": "code",
      "execution_count": null,
      "metadata": {
        "id": "YMVCoP5NDqwB"
      },
      "outputs": [],
      "source": []
    }
  ],
  "metadata": {
    "kernelspec": {
      "display_name": "Python 3",
      "language": "python",
      "name": "python3"
    },
    "language_info": {
      "codemirror_mode": {
        "name": "ipython",
        "version": 3
      },
      "file_extension": ".py",
      "mimetype": "text/x-python",
      "name": "python",
      "nbconvert_exporter": "python",
      "pygments_lexer": "ipython3",
      "version": "3.7.0"
    },
    "colab": {
      "provenance": [],
      "include_colab_link": true
    }
  },
  "nbformat": 4,
  "nbformat_minor": 0
}