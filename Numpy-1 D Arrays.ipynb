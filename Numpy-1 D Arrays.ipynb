{
  "nbformat": 4,
  "nbformat_minor": 0,
  "metadata": {
    "colab": {
      "provenance": [],
      "authorship_tag": "ABX9TyMyxxMglaprxX3pMwYSUtbx",
      "include_colab_link": true
    },
    "kernelspec": {
      "name": "python3",
      "display_name": "Python 3"
    },
    "language_info": {
      "name": "python"
    }
  },
  "cells": [
    {
      "cell_type": "markdown",
      "metadata": {
        "id": "view-in-github",
        "colab_type": "text"
      },
      "source": [
        "<a href=\"https://colab.research.google.com/github/jyotikarki14/cicd-pipeline-train-schedule-pipelines/blob/master/Numpy-1%20D%20Arrays.ipynb\" target=\"_parent\"><img src=\"https://colab.research.google.com/assets/colab-badge.svg\" alt=\"Open In Colab\"/></a>"
      ]
    },
    {
      "cell_type": "code",
      "execution_count": 1,
      "metadata": {
        "colab": {
          "base_uri": "https://localhost:8080/"
        },
        "id": "fEoLYhDz7jNs",
        "outputId": "08c4bfd7-95d7-4022-d9e6-d06e88da3e31"
      },
      "outputs": [
        {
          "output_type": "stream",
          "name": "stdout",
          "text": [
            "[1, 2, 3]\n"
          ]
        }
      ],
      "source": [
        "array_1 = [1,2,3,5,4,6,7,8,5,3,2]\n",
        "print(array_1[:3])\n"
      ]
    },
    {
      "cell_type": "markdown",
      "source": [],
      "metadata": {
        "id": "PUCBaCoG-YU5"
      }
    },
    {
      "cell_type": "code",
      "source": [
        "array_1 = [1,2,3,5,4,6,7,8,5,3,2]\n",
        "array_1[1::2]"
      ],
      "metadata": {
        "colab": {
          "base_uri": "https://localhost:8080/"
        },
        "id": "LtKQFB9F7-8q",
        "outputId": "e6736a85-2190-43d1-f9b6-5a747bae2842"
      },
      "execution_count": 3,
      "outputs": [
        {
          "output_type": "execute_result",
          "data": {
            "text/plain": [
              "[2, 5, 6, 8, 3]"
            ]
          },
          "metadata": {},
          "execution_count": 3
        }
      ]
    },
    {
      "cell_type": "code",
      "source": [
        "#take input here\n",
        "import ast\n",
        "input_list=ast.literal_eval(input())\n",
        "m=int(input())\n",
        "n=int(input())\n",
        "\n",
        "import numpy as np\n",
        "array_1 = np.array(input_list)\n",
        "temp_array = array_1[array_1 > m]\n",
        "final_array = temp_array[temp_array < n]\n",
        "\n",
        "print(final_array)"
      ],
      "metadata": {
        "colab": {
          "base_uri": "https://localhost:8080/"
        },
        "id": "mSAAnVU3A15F",
        "outputId": "eabae336-3646-4ac7-a898-e57257584b7b"
      },
      "execution_count": 6,
      "outputs": [
        {
          "output_type": "stream",
          "name": "stdout",
          "text": [
            "[ 1, 5, 9, 12, 15, 7, 12, 9 ]\n",
            "6\n",
            "12\n",
            "[9 7 9]\n"
          ]
        }
      ]
    }
  ]
}